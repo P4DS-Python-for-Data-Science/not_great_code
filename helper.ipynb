{
 "cells": [
  {
   "cell_type": "code",
   "execution_count": 33,
   "id": "15aa0491",
   "metadata": {},
   "outputs": [],
   "source": [
    "# Helper notebook so you can run pycodestyle without opening a terminal"
   ]
  },
  {
   "cell_type": "code",
   "execution_count": 35,
   "id": "48d146c0",
   "metadata": {},
   "outputs": [],
   "source": [
    "!pycodestyle not_great.py\n"
   ]
  },
  {
   "cell_type": "code",
   "execution_count": null,
   "id": "49d1f15e",
   "metadata": {},
   "outputs": [],
   "source": []
  }
 ],
 "metadata": {
  "kernelspec": {
   "display_name": "base",
   "language": "python",
   "name": "python3"
  },
  "language_info": {
   "codemirror_mode": {
    "name": "ipython",
    "version": 3
   },
   "file_extension": ".py",
   "mimetype": "text/x-python",
   "name": "python",
   "nbconvert_exporter": "python",
   "pygments_lexer": "ipython3",
   "version": "3.12.7"
  }
 },
 "nbformat": 4,
 "nbformat_minor": 5
}
