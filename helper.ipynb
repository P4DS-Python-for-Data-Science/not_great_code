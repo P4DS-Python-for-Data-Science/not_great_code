{
 "cells": [
  {
   "cell_type": "code",
   "execution_count": 1,
   "id": "15aa0491",
   "metadata": {},
   "outputs": [],
   "source": [
    "# Helper notebook so you can run pycodestyle without opening a terminal"
   ]
  },
  {
   "cell_type": "code",
   "execution_count": 3,
   "id": "48d146c0",
   "metadata": {},
   "outputs": [
    {
     "name": "stdout",
     "output_type": "stream",
     "text": [
      "not_great.py:4:1: E303 too many blank lines (3)\n",
      "not_great.py:4:20: E401 multiple imports on one line\n",
      "not_great.py:8:9: E225 missing whitespace around operator\n",
      "not_great.py:17:19: W291 trailing whitespace\n",
      "not_great.py:20:16: E225 missing whitespace around operator\n",
      "not_great.py:20:30: E702 multiple statements on one line (semicolon)\n",
      "not_great.py:20:70: E225 missing whitespace around operator\n",
      "not_great.py:20:80: E501 line too long (88 > 79 characters)\n",
      "not_great.py:21:24: E225 missing whitespace around operator\n",
      "not_great.py:22:26: E225 missing whitespace around operator\n",
      "not_great.py:25:55: E225 missing whitespace around operator\n",
      "not_great.py:25:80: E501 line too long (124 > 79 characters)\n",
      "not_great.py:29:9: E303 too many blank lines (3)\n",
      "not_great.py:31:1: E305 expected 2 blank lines after class or function definition, found 1\n",
      "not_great.py:31:24: E225 missing whitespace around operator\n",
      "not_great.py:34:2: E221 multiple spaces before operator\n",
      "not_great.py:38:25: E231 missing whitespace after ','\n",
      "not_great.py:38:44: E231 missing whitespace after ','\n",
      "not_great.py:38:58: E231 missing whitespace after ','\n",
      "not_great.py:39:29: E231 missing whitespace after ','\n",
      "not_great.py:39:52: E231 missing whitespace after ','\n",
      "not_great.py:39:66: E231 missing whitespace after ','\n",
      "not_great.py:40:26: E203 whitespace before ','\n",
      "not_great.py:40:27: E231 missing whitespace after ','\n",
      "not_great.py:40:45: E231 missing whitespace after ','\n",
      "not_great.py:40:64: E231 missing whitespace after ','\n",
      "not_great.py:41:36: E231 missing whitespace after ','\n",
      "not_great.py:41:49: E231 missing whitespace after ','\n",
      "not_great.py:41:62: E231 missing whitespace after ','\n",
      "not_great.py:41:80: E501 line too long (80 > 79 characters)\n",
      "not_great.py:43:19: E231 missing whitespace after ','\n",
      "not_great.py:47:1: W391 blank line at end of file\n"
     ]
    }
   ],
   "source": [
    "!pycodestyle not_great.py\n"
   ]
  },
  {
   "cell_type": "code",
   "execution_count": null,
   "id": "49d1f15e",
   "metadata": {},
   "outputs": [],
   "source": []
  }
 ],
 "metadata": {
  "kernelspec": {
   "display_name": "Python 3 (ipykernel)",
   "language": "python",
   "name": "python3"
  },
  "language_info": {
   "codemirror_mode": {
    "name": "ipython",
    "version": 3
   },
   "file_extension": ".py",
   "mimetype": "text/x-python",
   "name": "python",
   "nbconvert_exporter": "python",
   "pygments_lexer": "ipython3",
   "version": "3.11.6"
  }
 },
 "nbformat": 4,
 "nbformat_minor": 5
}
